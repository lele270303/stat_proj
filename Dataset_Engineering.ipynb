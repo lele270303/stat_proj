{
 "cells": [
  {
   "cell_type": "markdown",
   "metadata": {},
   "source": [
    "# Data Engineering \n",
    "*Our data needs firstly to be adjusted*. This is the online provided Dataset Card: <br><br>\n",
    "**Brands**: The brands of smartphones included in the dataset. <br>\n",
    "**Colors**: The colors available for the smartphones.<br>\n",
    "**Memory**: The storage capacity of the smartphones, typically measured in gigabytes (GB) or megabytes (MB).<br>\n",
    "**Storage**: The internal storage capacity of the smartphones, often measured in gigabytes (GB) or megabytes (MB).<br>\n",
    "**Rating**: The user ratings or scores assigned to the smartphones, reflecting user satisfaction or performance.<br>\n",
    "**Selling Price**: The price at which the smartphones are sold to consumers.<br>\n",
    "**Original Price**: The original or list price of the smartphones before any discounts or promotions.<br>\n",
    "**Mobile**: Indicates whether the device is a mobile phone.<br>\n",
    "**Discount**: The discount applied to the original price to calculate the selling price.<br>\n",
    "**Discount percentage**: The percentage discount applied to the original price to calculate the selling price.\n",
    "\n",
    "### Dataset Adjustment"
   ]
  },
  {
   "cell_type": "code",
   "execution_count": 1,
   "metadata": {},
   "outputs": [],
   "source": [
    "import pandas as pd \n",
    "import numpy as np"
   ]
  },
  {
   "cell_type": "code",
   "execution_count": 2,
   "metadata": {},
   "outputs": [],
   "source": [
    "df=pd.read_csv('Sales.csv')"
   ]
  },
  {
   "cell_type": "code",
   "execution_count": 3,
   "metadata": {
    "scrolled": true
   },
   "outputs": [
    {
     "data": {
      "text/plain": [
       "Index(['Brands', 'Models', 'Colors', 'Memory', 'Storage', 'Camera', 'Rating',\n",
       "       'Selling Price', 'Original Price', 'Mobile', 'Discount',\n",
       "       'discount percentage'],\n",
       "      dtype='object')"
      ]
     },
     "execution_count": 3,
     "metadata": {},
     "output_type": "execute_result"
    }
   ],
   "source": [
    "df.columns"
   ]
  },
  {
   "cell_type": "code",
   "execution_count": 4,
   "metadata": {
    "scrolled": true
   },
   "outputs": [
    {
     "data": {
      "text/plain": [
       "Brands                  object\n",
       "Models                  object\n",
       "Colors                  object\n",
       "Memory                  object\n",
       "Storage                 object\n",
       "Camera                  object\n",
       "Rating                 float64\n",
       "Selling Price            int64\n",
       "Original Price           int64\n",
       "Mobile                  object\n",
       "Discount                 int64\n",
       "discount percentage    float64\n",
       "dtype: object"
      ]
     },
     "execution_count": 4,
     "metadata": {},
     "output_type": "execute_result"
    }
   ],
   "source": [
    "df.dtypes"
   ]
  },
  {
   "cell_type": "code",
   "execution_count": 5,
   "metadata": {},
   "outputs": [
    {
     "data": {
      "text/plain": [
       "Brands                 False\n",
       "Models                 False\n",
       "Colors                 False\n",
       "Memory                  True\n",
       "Storage                 True\n",
       "Camera                 False\n",
       "Rating                  True\n",
       "Selling Price          False\n",
       "Original Price         False\n",
       "Mobile                 False\n",
       "Discount               False\n",
       "discount percentage    False\n",
       "dtype: bool"
      ]
     },
     "execution_count": 5,
     "metadata": {},
     "output_type": "execute_result"
    }
   ],
   "source": [
    "df.isna().any()"
   ]
  },
  {
   "cell_type": "markdown",
   "metadata": {},
   "source": [
    "We will not investigate on duplicates since there is no way to identify single transactions with this kind of dataset."
   ]
  },
  {
   "cell_type": "markdown",
   "metadata": {},
   "source": [
    "## Adjusting the dataset \n",
    "First of all, we can notice that there is one Extra Variable that was not included in the description, which is 'Camera'."
   ]
  },
  {
   "cell_type": "code",
   "execution_count": 6,
   "metadata": {},
   "outputs": [
    {
     "data": {
      "text/plain": [
       "1"
      ]
     },
     "execution_count": 6,
     "metadata": {},
     "output_type": "execute_result"
    }
   ],
   "source": [
    "df['Camera'].nunique()"
   ]
  },
  {
   "cell_type": "code",
   "execution_count": 7,
   "metadata": {},
   "outputs": [
    {
     "data": {
      "text/plain": [
       "False"
      ]
     },
     "execution_count": 7,
     "metadata": {},
     "output_type": "execute_result"
    }
   ],
   "source": [
    "df['Camera'].isna().any()"
   ]
  },
  {
   "cell_type": "markdown",
   "metadata": {},
   "source": [
    "Since it only has one value, and there are no None values, then **this Variable is essentially useless** as it is a characteristic shared by all mobile phones present in the dataset, **hence we can drop it**."
   ]
  },
  {
   "cell_type": "code",
   "execution_count": 8,
   "metadata": {},
   "outputs": [],
   "source": [
    "df.drop('Camera',axis=1,inplace=True)"
   ]
  },
  {
   "cell_type": "markdown",
   "metadata": {},
   "source": [
    "### Variable Analysis\n",
    "- **Brands, Models, Colors**: Must be a categorical variables\n",
    "- **Memory,Storage, Rating, Selling Price, Original Price, Discount, discount percentage**: Must be numerical variables.\n",
    "<br> <br>\n",
    "- **Brands**: Should be a Categorical Variable "
   ]
  },
  {
   "cell_type": "code",
   "execution_count": 9,
   "metadata": {},
   "outputs": [
    {
     "data": {
      "text/plain": [
       "array(['SAMSUNG', 'Nokia', 'realme', 'Infinix', 'Apple', 'GIONEE',\n",
       "       'Xiaomi', 'OPPO', 'vivo', 'Lenovo', 'ASUS', 'Motorola', 'HTC',\n",
       "       'Google Pixel', 'LG', 'POCO', 'IQOO'], dtype=object)"
      ]
     },
     "execution_count": 9,
     "metadata": {},
     "output_type": "execute_result"
    }
   ],
   "source": [
    "df['Brands'].unique()"
   ]
  },
  {
   "cell_type": "code",
   "execution_count": 10,
   "metadata": {},
   "outputs": [],
   "source": [
    "df['Brands']=df['Brands'].astype('category')"
   ]
  },
  {
   "cell_type": "markdown",
   "metadata": {},
   "source": [
    "- **Models**: Should be a Categorical Variable "
   ]
  },
  {
   "cell_type": "code",
   "execution_count": 11,
   "metadata": {},
   "outputs": [
    {
     "data": {
      "text/plain": [
       "array(['GALAXY M31S ', '3.2', 'C2 ', 'Note 5', 'iPhone 11 ', 'L800',\n",
       "       'iPhone 13 Mini ', 'iPhone XR ', 'Galaxy E5 ', 'Redmi Note 11T 5G',\n",
       "       'Galaxy A12 ', 'X7 5G ', 'A33', 'V23 5G', 'Y20A 2021 ',\n",
       "       'Galaxy J2 Core ', 'K10 Plus ', 'Zenfone Max ', 'M', '1',\n",
       "       'Pioneer P4S ', 'X3 ', 'Narzo 30A ', '8 Pro ', 'F205 Pro ',\n",
       "       'A6600d40 ', 'Galaxy S9 Plus ', 'Galaxy A30s ', 'Galaxy J6 ',\n",
       "       'Galaxy A03 Core', 'Galaxy Note 9 ', 'Hot 6 Pro',\n",
       "       'Galaxy J2 - 2016 ', 'Metro 313', 'Desire 700', 'X3 SuperZoom ',\n",
       "       '9 Pro+ 5G', 'Narzo 10 ', 'E5', '3', 'Zenfone Go 5.0 ',\n",
       "       'Galaxy A22 5G ', 'Marathon M5 Plus ', 'GT Neo 2',\n",
       "       'Galaxy A9 Pro ', 'Smart 7', '9i', 'iPhone 7 Plus ', 'iPhone 8 ',\n",
       "       'Z Play', 'K4 Note ', 'Reno4 Pro Special Edition', 'Reno7 5G',\n",
       "       '7i ', 'A390 ', 'Galaxy S6 Edge+ ', 'Stylus 3 ', 'Narzo 20A ',\n",
       "       'Marathon ', 'Mi 11X Pro 5G ', 'G5 ', '6 Pro ', 'REDMI Note 9 ',\n",
       "       'A5s', 'F1', 'One E9+', 'Galaxy M30S ', 'MI 11X 5G ', 'A3s',\n",
       "       'Wildfire X ', 'Galaxy S10 ', 'Note 11', 'Galaxy M31 ',\n",
       "       'Galaxy A7 2016 Edition ', 'A83', '11i Hypercharge 5G',\n",
       "       'Zenfone C ', 'Galaxy F12 ', 'Galaxy F23 5G', 'Redmi Note 5 ',\n",
       "       'Galaxy S6 Edge ', 'F15', '5 Pro ', 'iPhone 12 ',\n",
       "       'iPhone 12 Pro Max ', 'Reno2 F', 'X50 Pro 5G ', 'F19 Pro', 'F7',\n",
       "       'F8 Neo ', 'Stylus 2 Plus ', 'Mi 11X ', 'iPhone 11 Pro Max ',\n",
       "       'G20 ', 'Reno3 Pro', 'Spirit 4G LTE ', 'F3 Plus', 'V20 Pro ',\n",
       "       'G7+ ThinQ ', 'Optimus L70 ', 'A37f', 'Galaxy J7 Nxt ', 'A7',\n",
       "       'A15', '8 5G ', 'C35', 'A1 Plus ', 'Note 7', 'Lumia 510 ',\n",
       "       'Galaxy F02s ', 'M3 ', 'Guru Music 2', 'Galaxy A5 ', 'Q6+ ',\n",
       "       'P5L ', 'Galaxy J5 Prime ', 'iPhone 6s ', 'Tizen Z3 ',\n",
       "       'Galaxy A50 ', 'Candy K9 ', 'Zenfone Max Pro M1 ', 'C21Y ',\n",
       "       '11i 5G', '8i ', 'Zenfone Go ', 'XPlus ', 'Galaxy A21s ',\n",
       "       'iPhone 13 ', 'ZenFone Max M2 ', 'L60 Dual ',\n",
       "       'ZenFone Max Pro M2 ', 'F11', 'Reno2 Z', 'iPhone 12 Pro ', 'A5',\n",
       "       'GT 5G ', 'Y20 T', 'Galaxy A80 ', 'iPhone 13 Pro Max',\n",
       "       'Galaxy M32 ', 'X ', 'iPhone 6s Plus ', 'F17', 'V21 5G ',\n",
       "       'E7 Power ', 'X1s ', 'C01 Plus ', 'A53', 'X2 Pro ', '2 XL ',\n",
       "       'Galaxy S3 Neo ', 'W10 ', 'Galaxy A72 ', 'Galaxy A20 ', 'A54',\n",
       "       'M2 Pro', 'A12', 'Hot 8', 'G6 ', 'A52', 'M21 2021 Edition ',\n",
       "       '3a XL ', 'Metro 313 Dual Sim', 'iPhone 7 ', 'Galaxy S20 FE ',\n",
       "       'Galaxy S10 Plus ', 'K9 ', 'Redmi Note 9 Pro ', 'Galaxy M01 ', '5',\n",
       "       'Mi 11 Lite ', '5310 TA-1212 DS', 'iPhone 13 Pro ', 'Guru 1200',\n",
       "       'Hot 9', 'Galaxy J1 Ace ', 'F11 Pro', 'Mi A2 ', 'Neo 7 4G',\n",
       "       'iPhone 11 Pro ', 'Zenfone Selfie ', 'Z1 Pro', 'REDMI 9 Power ',\n",
       "       'Galaxy A10s ', 'P7 Max ', 'Redmi Note 5 Pro ', 'W30 Plus ',\n",
       "       'F17 PRO', 'X2 ', 'Note 10 Pro', 'Hot 10 Play', 'Z2 Play',\n",
       "       'Redmi Y3 ', '9 Pro 5G', 'Galaxy A52 ', 'ZenFone Lite L1 ',\n",
       "       'Desire 526G Plus', 'iPhone XS Max ', '4a ', 'On7 Pro ',\n",
       "       'Narzo 50A ', 'Y20G ', '8', 'Galaxy S4 Zoom ',\n",
       "       'iPhone 13 Pro Max ', 'Sm-B110E/D', 'Note 10', 'Redmi 8 ', 'X50  ',\n",
       "       'G7 ThinQ ', 'S11 Lite ', 'Pioneer P3S ', 'Galaxy J2 Ace ', '106',\n",
       "       'K1', '7.2', 'Galaxy S5 ', 'Galaxy A03s ', 'Metro 350', 'C3 ',\n",
       "       'iPhone 6s', '5i ', '2', 'Redmi 9A ', '526G Plus', 'Hot 10',\n",
       "       'V11 Pro', 'Galaxy J1 ', '3 XL ', 'Galaxy F62 ', 'Y1s ', 'K8 ',\n",
       "       'iPhone 13 mini', 'Galaxy A52s 5G ', 'Redmi 6A ',\n",
       "       'Redmi Note 7 Pro ', 'Y90', 'Reno6 5G', 'Narzo 20 ',\n",
       "       '107 Dual SIM', 'Redmi Note 6 Pro ', '5.4', 'C', 'C25 ', '6',\n",
       "       'F19', 'ROG ', 'A7 ', 'Y53s ', 'A328 ', 'F11 ', 'Y1S ', 'Note 11 ',\n",
       "       'C20 ', 'Redmi 9 ', 'A31', 'Q6 ', 'U11', 'Smart 5', 'G30 ', 'M2  ',\n",
       "       'Galaxy S20+ ', 'Galaxy M42 ', '620G', 'M7 Power ', 'G40 Fusion ',\n",
       "       'Edge 20 Fusion ', 'C Plus', 'A16k', 'Galaxy A50s ',\n",
       "       'Redmi 6 Pro ', 'Asha 206', 'A7000 ', 'REDMI Note 10S ',\n",
       "       'Galaxy S6 ', 'Galaxy J4 Plus ', '11 Lite NE',\n",
       "       'Galaxy Z Flip3 5G ', 'Hot S3', 'Guru Music 2 SM-B310E',\n",
       "       'Narzo 30 ', 'C15 ', '3310 DS 2020', '125 TA-1253 DS', 'A1 ', 'K3',\n",
       "       'C31', '225', 'Galaxy A32 ', 'Y21T', 'S5 Pro', 'A9',\n",
       "       'Narzo 30 Pro 5G ', 'S5 ', 'One Action ', 'ROG Phone 5 ',\n",
       "       'One Power ', 'ROG Phone II ', 'P2S ', 'Vibe K5 Note ',\n",
       "       'iPhone XS ', '8.1', 'iPhone 8 Plus ', 'Galaxy M20 ', '9 5G SE',\n",
       "       'Galaxy S20 ', 'M02s ', 'C25s ', '5310ds', 'A71k',\n",
       "       'Galaxy S Duos 2 ', 'W10 Alpha ', 'Optimus L5 II ', '6.1', '3i ',\n",
       "       '7.1', 'C11 2021 ', 'Smart 4', 'F5', 'Reno6 Pro 5G', 'Galaxy S21 ',\n",
       "       'Redmi 8A Dual ', 'Galaxy S4 Mini ', 'Hot 4 Pro', 'Galaxy A6 ',\n",
       "       'Galaxy A22 ', 'Galaxy Note 5 ', '5.1', 'Galaxy S Duos 3 ',\n",
       "       'Galaxy S10 Lite ', 'Hot 7 Pro', 'X3 Pro ', 'M4 Pro 5G',\n",
       "       'Elife S7 ', 'G Pro 2 ', 'Guru FM Plus', 'L700', 'A7000 Turbo ',\n",
       "       'P2 ', 'K3 Note ', 'Narzo 20 Pro ', 'Y11 ', 'Galaxy J7 Prime 2 ',\n",
       "       'Reno 10x Zoom', '10', 'iPhone SE ', 'A5 ', '6310', 'P5_W ',\n",
       "       '215 4G DS', 'Galaxy S7 ', 'TA-1174 / TA-1299', 'C12 ',\n",
       "       'C20 Plus ', 'Redmi 8A ', 'Galaxy M12 ',\n",
       "       'Zenfone Go 5.0 LTE 2nd Gen ', 'Y75 5G', 'Redmi Y2 ',\n",
       "       'Galaxy Ace NXT ', 'S6 ', 'Wing ', 'Sisley S60 ',\n",
       "       'Zenfone 4 Selfie ', '6.1 Plus ', 'Galaxy J7 Prime ', 'G10 ',\n",
       "       'Y11T Pro', 'One M8 ', 'Galaxy A8 Plus ', 'Galaxy A70 ',\n",
       "       'Note 11S Free Fire Edition', 'Galaxy J4 ', 'XT502', 'Desire 828',\n",
       "       'X2', 'Galaxy Mega 5.8 ', 'Galaxy M42 5G ', 'Galaxy M10 ',\n",
       "       '105 DS 2020', 'E7 Plus ', 'K6 Note ', 'Galaxy Grand I9082 ',\n",
       "       'Y72 5G ', 'Redmi K20 Pro ', 'Zenfone Max ZC550KL ', 'Smart 8',\n",
       "       'A6 Note ', 'Y83 Pro', 'Galaxy F22 ', 'iPhone 6 ',\n",
       "       'Optimus L7 II Dual ', 'F9 Pro', 'One Macro ', 'Nexus 5X ',\n",
       "       'Galaxy M30s ', 'Redmi Note 7 ', 'F17 Pro', 'G8 Plus',\n",
       "       'Galaxy J7 Duo ', 'W31 ', 'Razr ', 'Galaxy Note 10 ', 'Lumia 625 ',\n",
       "       'Galaxy A9 ', 'Mi 10i ', 'Redmi 5 ', 'Hot 7', 'B ', 'Neo 5',\n",
       "       '110 TA-1302 DS', 'M32 5G ', 'Hot 11S', 'C21 ', 'M01 core ',\n",
       "       'Galaxy A20s ', '2.3', 'Galaxy Note10 Lite ', 'Galaxy Trend ',\n",
       "       'M31 Prime ', 'Y95', 'Galaxy A5 2016 Edition ', 'Note 4', 'G6',\n",
       "       'Reno2', 'G4 ', 'A269i ', 'A6000 Plus ', 'One Vision ',\n",
       "       'Vibe K5 Plus ', '5.3', 'X2 Dual SIM ', 'Grand Prime 4G ', 'Y12G ',\n",
       "       'Narzo 30 5G ', 'F5 Youth', 'W30 ', 'Desire 616', 'Y33T',\n",
       "       'Zenfone GO ', 'Y21 ', 'Smart 3 Plus', 'S4', 'Hot 11',\n",
       "       'ROG Phone 3 ', 'RM-1172 / Nokia 230 DS', 'Galaxy A70s ',\n",
       "       'Desire 210', 'W31 Plus ', 'F1 Plus', 'Grand Prime ', 'A5 2020',\n",
       "       'Desire 326G DS', '826', 'F9 ', 'ROG 5s', 'Galaxy M10S ', 'S560 ',\n",
       "       'Y33s ', 'Hot S3X', 'iPhone 12 Mini ', 'V4S ', 'Z2 Force',\n",
       "       'Galaxy J2 2018 ', 'Galaxy J8 ', '2.2', 'ZenFone 5Z ', 'P770 ',\n",
       "       '5.1 Plus ', 'XR 20', 'G5s', 'A53s 5G', 'Galaxy S21 Ultra ',\n",
       "       'M52 5G', 'Galaxy M02 ', 'Note 11S', 'Y30 ', 'Galaxy Z Fold3 5G ',\n",
       "       'Smart 2', 'Galaxy A8 Star ', 'C25Y ', '8s 5G ', 'T1 5G',\n",
       "       'G4 Stylus 4G LTE ', 'Galaxy J5 ', 'Galaxy A31 ', 'Galaxy A3 ',\n",
       "       'Smart HD 2021', 'U10', 'Y71i', '6Z ', 'G8 Power Lite ',\n",
       "       'Galaxy On7 ', 'Galaxy On Nxt ', 'P5 Mini ', '3.4',\n",
       "       'Galaxy Note 8 ', 'M3 Pro 5G ', 'F19 Pro+ 5G', 'Desire 816G',\n",
       "       'Galaxy On8 ', 'Z1 ', 'Redmi 7A ', 'Zenfone Go 4.5 LTE ',\n",
       "       'Redmi 7 ', 'Asha 502 ', 'Max ', 'W30 Pro ', 'Razr 5G ',\n",
       "       'Galaxy Note 20 Ultra 5G ', 'Narzo 50i ', 'Galaxy S9 ',\n",
       "       'Galaxy Note 20 ', 'V20 2021 ', 'iPhone X ', 'Vibe S1 ',\n",
       "       'K8 Note ', 'Galaxy F41 ', 'Hot 10S', 'Galaxy J6 Plus ',\n",
       "       'A83 2018 Edition', 'Velvet ', 'Galaxy A51 ', 'Galaxy S21 Plus ',\n",
       "       'Galaxy Star Advance ', 'F9', 'F205 ', 'Zenfone Live ',\n",
       "       'Pioneer P3 ', 'C11 ', 'Max Pro ', 'V9 Youth', 'Galaxy M30 ',\n",
       "       'Fold 2 5G ', '6.2', 'F103 ', 'V7  ', 'K-7 ', 'W11 ', 'Galaxy A7 ',\n",
       "       'G7 Power', 'Desire 816  ', '105', 'Mi 10T ', '7 Plus ',\n",
       "       'Galaxy A8 ', 'Mi 10 ', 'Marathon M5 lite CDMA ', 'Desire 630',\n",
       "       'Galaxy Core ', 'Stylus 2 ', 'G5', 'Galaxy Star 2 ', 'Smart 5A',\n",
       "       'Galaxy Core 2 ', 'C15 Qualcomm Edition ', 'G6 Plus ', 'V21e ',\n",
       "       'Note 5 Stylus', 'Galaxy Note 3 ', 'Narzo 10A ', '2.1',\n",
       "       'Desire 820', 'X60 ', 'Redmi Note 7S ', '3.1', 'Asha 503 ',\n",
       "       'Galaxy F42 5G ', 'Velvet Dual Screen ', 'Galaxy M11 ',\n",
       "       'Galaxy S21 SE 5G', 'Guru GT', 'ZenFone Max M1 ', 'E6s', 'X7 Max',\n",
       "       'Zenfone Zoom ', 'Marathon M5 Lite ', 'ZUK Z1 ',\n",
       "       'Galaxy J7 - 6 New 2016 Edition) ', 'E 2nd Gen 3G ', 'A5000 ',\n",
       "       'Y73 ', '216 DS 2020', 'G8s ThinQ ', 'Galaxy J2 ', 'F103 Pro ',\n",
       "       'S1', 'A55', 'VIBE P1m ', 'X Power ', 'Galaxy A2 Core ',\n",
       "       'Galaxy J7 ', 'Guru FM Plus SM-B110E/D', '2.4', 'Pioneer P4 ',\n",
       "       'Y91i ', 'K9 4G LTE ', 'A6000 Shot ', 'Galaxy Alpha ', '4.2',\n",
       "       'K8 Plus ', '112', 'Z2 Plus ', 'Galaxy Grand Neo Plus ',\n",
       "       'Optimus L3 II E425 ', 'Desire 626', 'Galaxy Grand 2 ', '130',\n",
       "       'Redmi Note 8 ', 'A71 New Edition', 'A9 2020', '150/150 DS', 'A16',\n",
       "       'K7i ', 'Galaxy A10 ', 'Redmi 6 ', 'A6600 ', 'Very Silver', 'Y83',\n",
       "       'K6 POWER ', 'A71', '110', 'L90 Dual ', 'V20 ', 'Zero 8i', '6i ',\n",
       "       '820S', 'Vibe Z2 Pro ', 'X-1 ', 'XL ', 'X7 Pro 5G ', 'G3 ', 'F1S',\n",
       "       'A1 Lite ', 'Q7 ', 'Galaxy Note 3 Neo ', 'M7 ', 'TA-1010/105',\n",
       "       'Galaxy M21 ', '150 DS 2020', 'X70 Pro ', 'X 2nd Generation ',\n",
       "       'Galaxy M32 5G ', 'Galaxy E7 ', 'REDMI Note 10 Pro ', 'X2-AP ',\n",
       "       'Galaxy A71 ', 'Edge+ ', 'M4 Pro', 'K6 Power ', 'V40 ThinQ ',\n",
       "       'Nexus4 E960', 'Y20 ', '150', 'S11 ', '816G', 'G7', 'Galaxy M51 ',\n",
       "       'K9 Note ', 'GT 1200 R/I/M', 'R17', 'W41 Plus ', 'S5 Lite',\n",
       "       'X Play', 'A2010 ', 'Galaxy A6+ ',\n",
       "       'Galaxy J5 - 6 New 2016 Edition) ', 'S96', 'Y69',\n",
       "       'Metro B312E Dual Sim - White', 'G9 Power ', 'Galaxy Note 4 ',\n",
       "       'G 3rd Generation ', '820 G+', 'Elife E3 ', 'X Screen K500I ',\n",
       "       '9A Sport', 'Metro XL', 'Galaxy Star Pro ', 'A15s', 'Edge 20 ',\n",
       "       'X4', 'A74 5G', 'Z1x', 'Guru E1207T', 'Y21A', 'Pioneer P2 ',\n",
       "       'Spirit ', '125 DS 2020', 'Rex 60', 'On5 Pro ', 'G8X ',\n",
       "       'G10 Power ', 'Galaxy M40 ', '110 4G',\n",
       "       'Ravichandran Ashwin Limited Edition', '3a ', 'Z4 ',\n",
       "       'iPhone 6 Plus ', 'Galaxy M31s ', 'F9 Plus ', 'A850 ',\n",
       "       'V23 Pro 5G', 'W41 ', 'B351E/Metro 350', 'Vibe P1 Turbo ', 'G9 ',\n",
       "       'Galaxy Note 10 Plus ', 'Galaxy S7 Edge ', 'Galaxy S4 ',\n",
       "       'Zenfone Go 2nd Gen', 'Galaxy J2 Pro ', 'Reno4 Pro',\n",
       "       'Galaxy M01s ', 'G3 Beat ', 'Y20G 2021 ', 'Smart 4 Plus', 'S660 ',\n",
       "       'Galaxy On6 ', 'Galaxy Fold 2 ', 'Galaxy S20 Ultra ',\n",
       "       'GT Master Edition ', 'V30+ ', 'F103 3Gb Version ',\n",
       "       'Galaxy C7 Pro ', 'A1K', 'A15S', 'S6S ', 'Mi A3 ', 'Zero 5 Pro',\n",
       "       '8110 4G', 'Quench X T3', 'P7 ', 'G', 'REDMI 9 Prime ',\n",
       "       'Galaxy Grand Neo ', 'X60 Pro', '222', 'A6600 Plus ',\n",
       "       'Redmi Note 4 ', 'K10 Note ', '9', 'Reno7 Pro 5G', 'F19s',\n",
       "       'G6 Play', '125 DS', 'Q7+ ', 'U11+ ', '9 5G', 'Zero 5',\n",
       "       'Elife E7 Mini ', '5s ', '225 4G DS 2020',\n",
       "       'Galaxy M21 2021 Edition ', 'K10 2017 ', 'F3 GT',\n",
       "       'Galaxy A5-2017 ', 'Rohit Sharma Limited Edition', 'A1000 ',\n",
       "       'X50 Pro ', 'L 80 Dual ', '7', 'G4 Plus', '3.1 Plus ', 'Hot 9 Pro',\n",
       "       'S20 FE 5G ', 'Y94', 'K10 K420DS ', 'Find X', 'Guru Plus B110',\n",
       "       'Z2 ', 'Quite Black', 'One Fusion+ ', 'F3', 'A536 ',\n",
       "       'S90 Or Sisley S90 ', 'E5 Plus', 'Q Stylus+ ', 'U1 ',\n",
       "       'Reno5 Pro 5G', 'Desire 826 DS', 'G60 ', 'M31s ',\n",
       "       'Galaxy S8 Plus ', 'F3 Deepika Padukone Limited Edition',\n",
       "       'Galaxy Grand Quattro ', 'M5 Lite 4G ', 'Galaxy A30 ', 'G4',\n",
       "       'Y51A ', 'Pioneer P6 ', 'Vibe Shot ', 'Galaxy J2-2017 ',\n",
       "       '8 Sirocco ', 'S850 ', 'U12', 'P780 ', 'V20 SE ', 'Redmi Y1 ',\n",
       "       'S Plus ', 'U Ultra', 'Y31 ', 'Sm-G361Hhadins ', '216 DS',\n",
       "       'G2 D802 ', 'A57', 'F10 ', 'Y12s ', 'Galaxy Folder 2 ',\n",
       "       'ROG 5s Pro', 'M2 Reloaded ', 'Pioneer P5W ', 'Desire 516',\n",
       "       'Ta -1010/105', 'S10 Lite ', '105 SS 2021', 'S6 Pro ',\n",
       "       'Zenfone 2 Laser ZE500KL ', 'A7700 ', '215 4G DS 2020', 'S7 Edge ',\n",
       "       'M21 2021 Edition', '628', 'Smart 6', 'G 2nd Generation ', 'Metro',\n",
       "       'Zenfone Go 5.0 LTE ', 'A319 ', 'ROG Phone 5 Ultimate ',\n",
       "       'Galaxy Z Flip ', 'Note 10 lite', '515', 'Z3 ', 'W41 Pro ',\n",
       "       'F11 Pro Marvel? Avengers Limited Edition', '626G Plus', 'Y93',\n",
       "       'Marathon M3 ', 'SM-B310EZDDINS', '150 TA-1235 DS', 'N5111', 'X21',\n",
       "       'V9', 'Galaxy Core Prime ', 'One', '8110', '2nd Generation ',\n",
       "       'Max X160 ', 'V20a ', 'A74 5G BLACK', 'P70 ', 'Metro SM-B313ez',\n",
       "       'Q60 ', 'X Cam ', 'Galaxy Grand Prime 4g ', 'Galaxy S8 ',\n",
       "       'F10 Plus ', 'GURU FM PLUS', 'Galaxy Pocket Neo ', 'GALAXY M51 ',\n",
       "       'Galaxy Note 5 Dual ', '7 Pro ', 'Redmi K20 ', 'Metro 360',\n",
       "       'F103 3GB Version ', 'G3 Stylus ', 'L Bello ', 'Galaxy S10e ',\n",
       "       'Ctrl V4S ', 'A11K', 'Galaxy Star ', 'Reno', 'Zenfone Go 5.5 ',\n",
       "       'Zenfone Go 3rd Gen', 'Galaxy A7-2017 ', '105 DS', 'VIBE P1 ',\n",
       "       'Zenfone Go 4.5 ', 'Galaxy Note Edge ', 'K42 ', 'V7+', 'M2 ',\n",
       "       'SAMSUNG Metro 350 Dual Sim', 'REDMI 9i ', 'MI3 ', 'X70 Pro+',\n",
       "       'Elife S5.1 ', '108 Dual SIM', 'Elife E8 ', 'iPhone 13 Pro',\n",
       "       'X2 Special Edition', 'Metro B313E Dual Sim - White', '225 4g ds',\n",
       "       'Ctrl V5 ', 'Mi Max 2 ', 'G5 Plus', 'Y20A ', 'S2', 'R1 R829',\n",
       "       'K-10 ', 'K3 Note Music ', '215', 'Asha 311 ', 'Lumia 920 ',\n",
       "       'X50 Pro', 'Galaxy Core Prime G361 Dual Sim - White ', 'S930 ',\n",
       "       'B350', 'One 802D', '220', 'M31 ', 'Hardik Pandya Limited Editon',\n",
       "       'Q Stylus ', 'ROG Phone 5 Pro '], dtype=object)"
      ]
     },
     "execution_count": 11,
     "metadata": {},
     "output_type": "execute_result"
    }
   ],
   "source": [
    "df['Models'].unique()"
   ]
  },
  {
   "cell_type": "code",
   "execution_count": 12,
   "metadata": {},
   "outputs": [],
   "source": [
    "df['Models']=df['Models'].astype('category')"
   ]
  },
  {
   "cell_type": "markdown",
   "metadata": {},
   "source": [
    "- *Colors*"
   ]
  },
  {
   "cell_type": "code",
   "execution_count": 13,
   "metadata": {},
   "outputs": [
    {
     "data": {
      "text/plain": [
       "array(['Mirage Black', 'Steel', 'Diamond Black', 'Ice Blue', 'Black',\n",
       "       'Pink', 'Coral', 'Brown', 'Aquamarine Blue', 'Red', 'Nebula',\n",
       "       'Moonlight Black', 'Sunshine Gold', 'Nebula Blue', 'Gold',\n",
       "       'Sprite', 'Blue', 'Grey', 'White', 'Arctic White', 'Laser Blue',\n",
       "       'Illuminating Yellow', 'Polaris Blue', 'Prism Crush Black',\n",
       "       'Midnight Black', 'Bordeaux Red ', 'Green', 'That Green',\n",
       "       'Fine Gold', 'Just Black', 'Violet', 'CHAMPAGNE GOLD', 'Neo Blue',\n",
       "       'Purple', 'Prism Black', 'Jet Black', 'Silver', 'Yellow',\n",
       "       'Starry Night', 'Startrails Blue', 'Ocean Blue', 'Fusion Blue',\n",
       "       'Gold Platinum', 'Titan', 'Victory Blue', 'Celestial Silver',\n",
       "       'Lightning Red', 'Pebble Grey', 'Gold Sepia', 'COSMIC BLACK',\n",
       "       'Prism White', 'Glacier Green', 'Space Black', 'Champagne',\n",
       "       'Stealth Black', 'Sky Blue', 'Forest Green', 'Black Sapphire',\n",
       "       'Blazing Blue', 'Chroma White', 'Lake Green', 'Rust Red',\n",
       "       'Crystal Silver', 'Lunar White', 'Glacier Blue', 'Black Titan',\n",
       "       'Midnight Jazz', 'Platinum', 'Glaring Gold', 'Mystery Blue',\n",
       "       'Supersonic Black', 'Glowing Green', 'Bolivia Blue', 'Cool Blue',\n",
       "       'Quantum Silver', 'Pearl White', 'Moroccan Blue', 'Cross Black',\n",
       "       'Space Purple', 'Bright Green', 'Starlight', 'Jewelry White',\n",
       "       'Luminous Black', 'Burgundy Red', 'Diamond Blue', 'Racing Yellow',\n",
       "       'Obsidian Black', 'Angel Gold', 'White Pearl', 'Garlic',\n",
       "       'Rose Gold', 'Classic Silver', 'Neon Spark', 'Coral Red',\n",
       "       'Prism Blue', 'Smokey Gray', 'Awesome White', 'Crystal Black',\n",
       "       'Green and Greener', 'Shark Grey', 'Stream White', 'Arctic blue',\n",
       "       'Diamond Red', 'Aqua Blue', 'Cloud Lavender', 'Glacier White',\n",
       "       'Vinyl Black', 'Aurora Green', 'Space Grey', 'Lightening Black',\n",
       "       'Sonic Black', 'Thunder blue', 'Pearl Blue', 'Lunar Gray',\n",
       "       'Elegant Blue', 'Dusk Blue', 'Awesome Black', 'Oxygen Green',\n",
       "       'Purist Blue', 'Cyber Silver', 'Fairy White', 'Sapphire Blue',\n",
       "       'Cyber Black', 'Frost Blue', 'Dark Blue', 'Camo Green',\n",
       "       'Astral Blue', 'Infinite Black', 'Ice', 'Electric Blue',\n",
       "       'Arctic Blue', 'Polished Copper', 'Infinite Blue', 'Fervor Red',\n",
       "       'Ocean Wave', 'Crystal Green', 'Dazzling Gold', 'Marble Green',\n",
       "       'Olive Black', 'Venom Black', 'Neptune Blue', 'Aurora',\n",
       "       'Glory Silver', 'Polar Night', 'Watery Grey', 'Comet White',\n",
       "       'Midnight Blue', 'Starry Blue', 'Deep Sea Blue', 'Tempered Blue',\n",
       "       'Aurora Blue', 'Celestial Snow', 'Cool Grey', 'Fantasy White',\n",
       "       'Prism Crush White', 'Solar Red', 'Aegean Blue', 'Dark Pearl',\n",
       "       'Brick Red', 'Cosmic Black', 'Midnight', 'Prism Dot Black',\n",
       "       'Santorini White', 'Frosted Champagne', 'Cyber Teal', 'Graphite',\n",
       "       'Starry Black', 'Piano Black', 'Prism Crush Violet', 'Lake Blue',\n",
       "       'Pacific Blue', 'Cosmic Purple', 'Tuscany Coral', 'Phantom Black',\n",
       "       'Blush Gold', 'Matte Black', 'Racing Silver', 'Power Silver',\n",
       "       'Jade Black', 'Royal Blue', 'Awesome Violet', 'Fluorite Purple',\n",
       "       'Blade Silver', 'Morandi Green', 'Charcoal Black', 'Azure Glow',\n",
       "       'Cloud Pink', 'Moonlight Gold', 'Watery Blue', 'Pure White',\n",
       "       'Titanium', 'Steel Blue', 'Racing Blue', 'Stellar Black',\n",
       "       'Phantom White', 'Sea Blue', 'White Frost', 'Magic Gold',\n",
       "       'Silver Titanium', 'Ceramic White', 'Carbon Black', 'Mocha Brown',\n",
       "       'Diamond Dazzle', 'Phantom Gray', 'White Knight', 'Agate Red',\n",
       "       'Ocean Green', 'Topaz Gold', 'City Blue', 'Lime Green',\n",
       "       'Black Onyx', 'Nordic Blue', 'Sunset Red', 'Moonlight Jade',\n",
       "       'Two shades of black', 'Glowing Galaxy', 'Pacific Pearl',\n",
       "       'Charcoal', 'Cloud Mint', 'Aurora Gray', 'Starry Glow',\n",
       "       'Pastel Sky', 'Night | Dark Blue', 'Celestial Magic',\n",
       "       'Super Polar White', 'Auroral Blue', 'Space Silver', 'SeaBlue',\n",
       "       'Lightning Blue', 'Mithril Grey', 'Matrix Purple', 'Thunder Black',\n",
       "       'Misty Blue', 'Twilight Black', 'Metallic Blue', 'Slate Gray',\n",
       "       'Denim Black', 'Twilight Blue', 'Ultra Violet', 'Onyx Black',\n",
       "       'Cosmic Blue', 'Purple  ', 'Dynamic Orange', 'Galactic Blue',\n",
       "       'Awesome Blue', 'Aura Glow', 'Supersonic Blue', 'Sky White',\n",
       "       'Lemonade Blue', 'Atlantic Blue', 'Sky blue', 'Amazing Silver',\n",
       "       'Silver Wave', 'Cosmic Gray', 'Not Pink', 'Cross Blue', 'Sand',\n",
       "       'Green Wave', 'Graphite Black', 'Quetzal Cyan', 'Glaze Blue',\n",
       "       'Nebula Purple', 'Champagne Gold', 'Indigo Black', 'Metallic Gray',\n",
       "       'Bronze Gradient', 'Dark Grey', 'CYAN', 'Oxygen Blue',\n",
       "       'Platinum Grey', 'Symphony Cyan', 'IceBerg Blue', 'Mirror Black',\n",
       "       'Jazz Blue', 'Midnight Grey', 'Sapphire Cyan', 'Emerald Green',\n",
       "       'Dynamic Black', 'Dazzling White', 'White Birch', 'Sea Green',\n",
       "       'Quartz Black', 'Amber Gold', 'Stainless Black', 'Deep Black',\n",
       "       'Cyan Green', 'Tradew Grey', 'Super Black', 'Out of Blue',\n",
       "       'Coral Blue', 'Grey ', 'Copper Gold', 'Crystal Blue', 'Dusk',\n",
       "       'Emerald Black', 'Moonlight Silver', 'Laser Black',\n",
       "       'Polished Blue', 'Phantom Silver', 'Serene Gold', 'Metal Grey',\n",
       "       'Universe Purple', 'Alpine Green', 'Mystery Black',\n",
       "       'Rainbow Fantasy', 'Marble White', 'Prism Crush Blue',\n",
       "       'Quartz Green', 'Power Black', 'Sierra Blue',\n",
       "       'Genuine Leather Brown', 'Tahiti Blue', 'Fjord', 'Maple Gold',\n",
       "       'Prism Magic', 'Twilight Orange', 'Gold and Silver', 'Polar Gold',\n",
       "       'Matte Gold', 'Silver Blue', 'Eclipse Black', 'Polished Graphite',\n",
       "       'Tornado Black', 'Icy Blue', 'Mystic Black', 'Mint Green',\n",
       "       'Mystic Bronze', 'Rosso Red', 'Sunset Melody', 'Night',\n",
       "       'Brilliant Black', 'Starry purple', 'AURORA SILVER', 'Iron',\n",
       "       'Waterfall Grey', 'Stellar Purple', 'Black and Gold', 'Rich Grey',\n",
       "       'Gradation Black', 'Radiant Blue', 'Nordic Secret', 'Denim Blue',\n",
       "       'Energetic Blue', 'Ceramic Black', 'Pearl Green', 'White  ',\n",
       "       'White & Copper', 'Sparkling Blue', 'Glowing Black', 'Coral Green',\n",
       "       'Sprinkle White', 'Clearly White', 'Chic White', 'Dashing Blue',\n",
       "       'Lunar Grey', 'Milan Black', 'Sandstone Black', 'Nebula Red',\n",
       "       'Classic White', 'Power Blue', 'So Blue', 'Blue & Silver',\n",
       "       'Space Blue', 'Matte Aqua', 'Aurora Silver', 'Warm Red',\n",
       "       'Blazing Black', 'Midday Dream', 'Rich Cranberry', 'Milkyway Grey',\n",
       "       'Mint', 'Diamond Flare', 'Pheonix Red', 'Thunder Blue',\n",
       "       'Sunset Dazzle', 'Skyline Blue', 'Cloud Blue', 'Gradation Blue',\n",
       "       'Rainbow Blue', 'Prism Crush Red', 'Dark Gray', 'Charcoal Grey',\n",
       "       'Fusion Black', 'Midnight Green', 'Frosted Gold', 'Pink Sand',\n",
       "       'Nature Green', 'Blue Lagoon', 'Twilight Purple', 'Marine Green',\n",
       "       'Charcoal Blue', 'Cloud Red', 'Aura Black', 'GREY/BLACK',\n",
       "       'Wine Red', 'Shadow Black', 'Dusk Purple', 'Silver Diamond',\n",
       "       'Pitch Black', 'Starry Night Black', 'black sapphire',\n",
       "       'Very Silver', 'Pewter / White', 'midnight blue', 'Alpine White',\n",
       "       'Fantastic Purple', 'Lilac Purple', 'Crystal Pink',\n",
       "       'Electric Graphite', 'Polar Black', 'Lavender Violet', 'Concrete',\n",
       "       'Prism Dot Gray', 'Aurora Dawn', 'Black Leather', 'Slate Black',\n",
       "       'Fusion Green', 'Dark Night', 'Prism Crush Silver',\n",
       "       'Smoky Sangria', 'Haze Crush Silver', 'Midnight Purple',\n",
       "       'Ink Black', 'LUNAR WHITE', 'Black/Tuxedo Black',\n",
       "       'Celestial Black', 'Neon Purple', 'Magic Blue', 'Meteor Silver',\n",
       "       'Starlight Black', 'Volcano Grey', 'Meteorite Black',\n",
       "       'Polar White', 'Dark Nebula', 'Cloud White', 'Rainbow Silver',\n",
       "       'Metallic Sage', 'Frost White', 'Purple Mist', 'Stardust White',\n",
       "       'Ruby Red', 'Diamond Ruby', 'CHARCOAL', 'Frosted Pearl',\n",
       "       'Metallic Copper', 'Phantom Purple', 'Fluid Black', 'Rose Pink',\n",
       "       'Unicorn White', 'Diamond Glow', 'Berlin Gray', 'Dynamic Gray',\n",
       "       'Black Gold', 'Meteor Grey', 'Breeze Blue', 'Laser Green',\n",
       "       'Iris Charcoal', 'Frozen Blue', 'Stardust Black', 'MAGIC BLUE',\n",
       "       'Phantom Green', 'Sword Black', 'Genuine Leather Black',\n",
       "       'Diamond White', 'Light Blue', 'Lightning Orange', 'Cosmos Black',\n",
       "       'Neo Black', 'Navy Blue', 'Fancy White', 'Mocha Gold',\n",
       "       'Not just Blue', 'Bronze Gold Black', 'Voyager Grey',\n",
       "       'Daybreak Blue', 'Cloud Navy', 'Sunrise Flare', 'Iceberg blue',\n",
       "       'Shimmer Blue', 'Iceberg Blue', 'Glowing Gold', 'Black & Blue',\n",
       "       'Dawn White', 'Sunrise Blue ', 'Space Gray', 'Stargaze White',\n",
       "       'Shadow Grey', 'Raven Black', 'Interstellar Black',\n",
       "       'Predator Black', 'Gold Sand', 'Mercury Silver', 'Phantom Violet',\n",
       "       'Mist White', 'Gold & Black', 'That Blue', 'Mirage Blue',\n",
       "       'Roman Black', 'Luna White ', 'Heart of Ocean', 'Copper',\n",
       "       'Lavender  ', 'Pearl white', 'Comet Blue', 'Topaz Blue',\n",
       "       'Black Sky', 'Ambitious Black', 'Armoured Edition', 'Cream',\n",
       "       'Carbon Grey', 'Meteor Black', 'Sonic Blue', 'Laser Grey',\n",
       "       'Crystal Symphony', 'Sporty Orange', 'That White', 'Pink Gold',\n",
       "       'Grey / Silver', 'Absolute black', 'Metallic White',\n",
       "       'CRYSTAL BLACK', 'Gravity Black', 'Mist Blue', 'Fiery Gold',\n",
       "       'Asteroid Black', 'Storm White', 'Baltic', 'Charcoal Gray',\n",
       "       'Bright Red', 'Mint Cream', 'Deep Blue', 'Silver White',\n",
       "       'Lavender Purple', 'Bordeaux Red', 'Mostly Blue', 'Pebble Blue',\n",
       "       'Onion', 'Aura Red', 'Blazing Red', 'Bronze Gold', 'SAND',\n",
       "       'Copper/Black', 'Moonlight White', 'MOONLIGHT WHITE',\n",
       "       'Vanilla Mint', 'Black Pearl', 'Carbon', 'Sunset Blue', 'Bold Red',\n",
       "       'Blossom Pink', 'Pacific Sunrise', 'Universe Blue', 'Awesome Mint',\n",
       "       'Gunmetal Silver', 'Moss Green', 'Black Diamond', 'Electric Green',\n",
       "       'Sterling Blue', 'Aqua Green', 'Black Ninja', 'Starry Purple',\n",
       "       'Dusk | Purple', 'Mystic Blue', 'Electric Black', 'Majestic Gold',\n",
       "       'Prime Black', 'Aura White', 'Oxford Blue', 'Fancy Blue',\n",
       "       'Pearl Black', 'Mystic Green', 'Shimmery White', 'Silver Titan',\n",
       "       'Mist Black', 'Aquamarine Green', 'Titan Silver', 'Slate Blue',\n",
       "       'Fantastic Rainbow', 'dark gold', 'Rainbow Black',\n",
       "       'Caribbean Blue', 'Blue MB', 'Titan Gray', 'Twilight Grey',\n",
       "       'Brave Blue', 'Metallic Silver', 'Lunar Silver', 'Kind of Grey',\n",
       "       'Sun Kissed Leather', 'Flowing Silver', 'Fjord Blue',\n",
       "       'Sunrise Red', 'Sunrise Gold', 'Royal Gold', 'Saffron Grey',\n",
       "       'Silky White', 'Caviar Black', 'Noble Black', 'Red Brick',\n",
       "       'Diamond Sapphire', 'Aether Black', 'JET BLACK', 'Volcanic Grey',\n",
       "       'CELESTIAL SILVER', 'Titanium Sapphire', 'Latte Gold',\n",
       "       'Illusion Sky', 'Rich Green', 'Metallic Grey', 'Enigma Black',\n",
       "       'Black&Blue', 'Copper White', 'Black & Copper', 'Frosted Emerald',\n",
       "       'More Than White', 'Orchid Grey', 'Sunset Jazz', 'So White',\n",
       "       'Haze Green', 'Amber Red', 'Mighty Black', ' Tornado Black',\n",
       "       'Orange', 'Blue Coral', 'Electric Violet', 'Black Blue',\n",
       "       'Seawater Blue', 'Glossy Black', 'Gunmetal Grey', 'Flame Red',\n",
       "       'Alpha Grey', 'Ghost White', 'Fancy white', 'COCKTAIL ORANGE',\n",
       "       'Frosted Silver', 'Astro Moonlight White', 'Fiery Red',\n",
       "       'Aurora Grey', 'Sapphire Gradient'], dtype=object)"
      ]
     },
     "execution_count": 13,
     "metadata": {},
     "output_type": "execute_result"
    }
   ],
   "source": [
    "df['Colors'].unique()"
   ]
  },
  {
   "cell_type": "markdown",
   "metadata": {},
   "source": [
    "There are a lot of different colors!\n",
    "We are, hence, firstly going to transform these fancy colors in their simplest forms _e.g. red, orange_"
   ]
  },
  {
   "cell_type": "code",
   "execution_count": 14,
   "metadata": {},
   "outputs": [],
   "source": [
    "simple_colors=['red','blue','yellow','green','orange','purple','brown','pink','black','gray','white']\n",
    "def find_simple_color(color):\n",
    "    color = color.lower().replace(' ', '')\n",
    "    for simple_color in simple_colors:\n",
    "        if simple_color in color:\n",
    "            return simple_color\n",
    "    return color"
   ]
  },
  {
   "cell_type": "code",
   "execution_count": 15,
   "metadata": {},
   "outputs": [],
   "source": [
    "new_colors = df['Colors'].apply(find_simple_color)"
   ]
  },
  {
   "cell_type": "markdown",
   "metadata": {},
   "source": [
    "Now, let's check the remaining colors that were not caught by our previous transformation"
   ]
  },
  {
   "cell_type": "code",
   "execution_count": 16,
   "metadata": {
    "scrolled": true
   },
   "outputs": [
    {
     "data": {
      "text/plain": [
       "['starryglow',\n",
       " 'titanium',\n",
       " 'titansilver',\n",
       " 'garlic',\n",
       " 'goldandsilver',\n",
       " 'starlight',\n",
       " 'hazecrushsilver',\n",
       " 'bronzegold',\n",
       " 'frostedsilver',\n",
       " 'crystalsymphony',\n",
       " 'orchidgrey',\n",
       " 'bladesilver',\n",
       " 'lattegold',\n",
       " 'rainbowsilver',\n",
       " 'midnightjazz',\n",
       " 'sunsetmelody',\n",
       " 'carbongrey',\n",
       " 'sapphiregradient',\n",
       " 'illusionsky',\n",
       " 'champagnegold',\n",
       " 'glowinggalaxy',\n",
       " 'glaringgold',\n",
       " 'waterygrey',\n",
       " 'sunsetdazzle',\n",
       " 'goldsand',\n",
       " 'starrynight',\n",
       " 'meteorgrey',\n",
       " 'richcranberry',\n",
       " 'silver',\n",
       " 'cyan',\n",
       " 'quantumsilver',\n",
       " 'grey/silver',\n",
       " 'classicsilver',\n",
       " 'fantasticrainbow',\n",
       " 'lavenderviolet',\n",
       " 'titan',\n",
       " 'baltic',\n",
       " 'tuscanycoral',\n",
       " 'silverdiamond',\n",
       " 'phantomviolet',\n",
       " 'mint',\n",
       " 'lavender',\n",
       " 'neonspark',\n",
       " 'steel',\n",
       " 'ambergold',\n",
       " 'frostedchampagne',\n",
       " 'violet',\n",
       " 'copper',\n",
       " 'tradewgrey',\n",
       " 'silvertitan',\n",
       " 'silverwave',\n",
       " 'royalgold',\n",
       " 'frostedpearl',\n",
       " 'frostedemerald',\n",
       " 'graphite',\n",
       " 'carbon',\n",
       " 'rainbowfantasy',\n",
       " 'moonlightjade',\n",
       " 'quetzalcyan',\n",
       " 'milkywaygrey',\n",
       " 'darknebula',\n",
       " 'night',\n",
       " 'grey',\n",
       " 'metalliccopper',\n",
       " 'glorysilver',\n",
       " 'awesomemint',\n",
       " 'gunmetalgrey',\n",
       " 'cream',\n",
       " 'meteorsilver',\n",
       " 'ice',\n",
       " 'diamondsapphire',\n",
       " 'platinum',\n",
       " 'cybersilver',\n",
       " 'lunargrey',\n",
       " 'volcanogrey',\n",
       " 'sprite',\n",
       " 'pebblegrey',\n",
       " 'awesomeviolet',\n",
       " 'kindofgrey',\n",
       " 'pastelsky',\n",
       " 'vanillamint',\n",
       " 'goldplatinum',\n",
       " 'lunarsilver',\n",
       " 'midnight',\n",
       " 'bronzegradient',\n",
       " 'metalgrey',\n",
       " 'mochagold',\n",
       " 'middaydream',\n",
       " 'gold',\n",
       " 'pacificsunrise',\n",
       " 'maplegold',\n",
       " 'celestialmagic',\n",
       " 'sand',\n",
       " 'sunshinegold',\n",
       " 'phantomsilver',\n",
       " 'dazzlinggold',\n",
       " 'gunmetalsilver',\n",
       " 'alphagrey',\n",
       " 'symphonycyan',\n",
       " 'diamondglow',\n",
       " 'iron',\n",
       " 'mattegold',\n",
       " 'mysticbronze',\n",
       " 'platinumgrey',\n",
       " 'goldsepia',\n",
       " 'glowinggold',\n",
       " 'angelgold',\n",
       " 'sunriseflare',\n",
       " 'sunrisegold',\n",
       " 'celestialsilver',\n",
       " 'verysilver',\n",
       " 'racingsilver',\n",
       " 'silvertitanium',\n",
       " 'voyagergrey',\n",
       " 'saffrongrey',\n",
       " 'midnightgrey',\n",
       " 'azureglow',\n",
       " 'auroradawn',\n",
       " 'moonlightgold',\n",
       " 'smokysangria',\n",
       " 'irischarcoal',\n",
       " 'cyberteal',\n",
       " 'fierygold',\n",
       " 'titaniumsapphire',\n",
       " 'sunkissedleather',\n",
       " 'charcoalgrey',\n",
       " 'auraglow',\n",
       " 'metallicsilver',\n",
       " 'mithrilgrey',\n",
       " 'darknight',\n",
       " 'coppergold',\n",
       " 'nebula',\n",
       " 'darkgold',\n",
       " 'sharkgrey',\n",
       " 'ultraviolet',\n",
       " 'magicgold',\n",
       " 'concrete',\n",
       " 'serenegold',\n",
       " 'rosegold',\n",
       " 'electricgraphite',\n",
       " 'sapphirecyan',\n",
       " 'volcanicgrey',\n",
       " 'prismcrushsilver',\n",
       " 'polargold',\n",
       " 'oceanwave',\n",
       " 'celestialsnow',\n",
       " 'diamondruby',\n",
       " 'polishedcopper',\n",
       " 'waterfallgrey',\n",
       " 'polishedgraphite',\n",
       " 'coral',\n",
       " 'cloudlavender',\n",
       " 'fjord',\n",
       " 'finegold',\n",
       " 'onion',\n",
       " 'cloudmint',\n",
       " 'flowingsilver',\n",
       " 'metallicsage',\n",
       " 'pacificpearl',\n",
       " 'sunsetjazz',\n",
       " 'auroragrey',\n",
       " 'spacegrey',\n",
       " 'twilightgrey',\n",
       " 'blushgold',\n",
       " 'prismmagic',\n",
       " 'shadowgrey',\n",
       " 'lasergrey',\n",
       " 'darkpearl',\n",
       " 'prismcrushviolet',\n",
       " 'powersilver',\n",
       " 'moonlightsilver',\n",
       " 'diamonddazzle',\n",
       " 'dusk',\n",
       " 'amazingsilver',\n",
       " 'richgrey',\n",
       " 'majesticgold',\n",
       " 'heartofocean',\n",
       " 'matteaqua',\n",
       " 'metallicgrey',\n",
       " 'cloudnavy',\n",
       " 'darkgrey',\n",
       " 'mercurysilver',\n",
       " 'mintcream',\n",
       " 'coolgrey',\n",
       " 'aurorasilver',\n",
       " 'nordicsecret',\n",
       " 'crystalsilver',\n",
       " 'topazgold',\n",
       " 'spacesilver',\n",
       " 'aurora',\n",
       " 'diamondflare',\n",
       " 'champagne',\n",
       " 'electricviolet',\n",
       " 'charcoal',\n",
       " 'polarnight',\n",
       " 'frostedgold']"
      ]
     },
     "execution_count": 16,
     "metadata": {},
     "output_type": "execute_result"
    }
   ],
   "source": [
    "list(set(new_colors).symmetric_difference(set(simple_colors)))"
   ]
  },
  {
   "cell_type": "markdown",
   "metadata": {},
   "source": [
    "Here, we have to either add new colors, or to associate colors to simple ones. <br>\n",
    "In this case, we decided to add only the gold color, that really isn't similar to any of the colors present in the original list"
   ]
  },
  {
   "cell_type": "code",
   "execution_count": 17,
   "metadata": {},
   "outputs": [],
   "source": [
    "col_dict={'nordicsecret':'blue','electricgraphite':'black','diamondglow':'white','fantasticrainbow':'purple',\n",
    "         'spacegrey':'gray','night':'black','richcranberry':'red','metalliccopper':'orange',\n",
    "         'gunmetalgrey':'gray','alphagrey':'gray','smokysangria':'purple','darkgold':'gold',\n",
    "          'cloudmint':'green','champagnegold':'gold','vanillamint':'blue','titaniumsapphire':'blue',\n",
    "         'sunshinegold':'gold', 'glorysilver':'gray','ultraviolet':'purple','bronzegradient':'brown',\n",
    "          'magicgold':'gold','silverdiamond':'gray', 'nebula':'purple','dazzlinggold':'gold','rainbowsilver':'gray',\n",
    "         'lunargrey':'gray', 'tradewgrey':'gray', 'fierygold':'gold', 'concrete':'gray', 'mochagold':'gold',\n",
    "         'spacesilver':'gray','racingsilver':'gray','gunmetalsilver':'gray','steel':'gray','starlight':'gold',\n",
    "         'illusionsky':'blue', 'lavenderviolet':'purple','titan':'gray','meteorsilver':'gray','sunrisegold':'gold',\n",
    "          'pastelsky':'blue', 'lunarsilver':'gray','amazingsilver':'gray','silverwave':'gray','topazgold':'gold','electricviolet':'purple',\n",
    "          'mattegold':'gold', 'sunsetdazzle':'gold', 'cyan':'green','cybersilver':'gray','rosegold':'gold','flowingsilver':'gray',\n",
    "          'carbon':'black','mint':'green','hazecrushsilver':'gray','symphonycyan':'green','iron':'gray','serenegold':'gold',\n",
    "          'sunkissedleather':'gold', 'sunsetjazz':'gold','bladesilver':'gray', 'polarnight':'black',\n",
    "         'powersilver':'gray','fjord':'green','aurorasilver':'gray','cloudnavy':'blue', 'prismcrushviolet':'purple','platinumgrey':'gray','darkgrey':'gray','moonlightsilver':'gray','gold':'gold','lasergrey':'gray','meteorgrey':'gray','copper':'orange','platinum':'gray',\n",
    "          'graphite':'black','prismmagic':'purple','polishedgraphite':'black','prismcrushsilver':'gray','darknight':'black','starryglow':'gold','volcanicgrey':'gray',\n",
    "          'carbongrey':'gray','celestialsnow':'blue','metallicgrey':'gray','goldsepia':'gold','quantumsilver':'gray','cream':'yellow','goldandsilver':'gray','verysilver':'gray','champagne':'yellow',\n",
    "          'grey':'gray','twilightgrey':'gray','goldplatinum':'gold','silver':'gray','charcoal':'black','bronzegold':'brown','neonspark':'green','onion':'purple','titansilver':'gray',\n",
    "          'lattegold':'gold','classicsilver':'gray','crystalsymphony':'gray','frostedemerald':'green','glowinggalaxy':'blue','coolgrey':'gray','darknebula':'purple','auraglow':'purple','mercurysilver':'gray','goldsand':'gold',\n",
    "          'angelgold':'gold','ambergold':'gold','violet':'purple','maplegold':'gold','diamondruby':'red','tuscanycoral':'red','mysticbronze':'orange','metallicsilver':'gray','metallicsage':'green',\n",
    "          'orchidgrey':'gray','shadowgrey':'gray','waterfallgrey':'gray','grey/silver':'gray','finegold':'gold','cyberteal':'green','metalgrey':'gray','oceanwave':'blue','moonlightjade':'green','saffrongrey':'gray',\n",
    "          'polishedcopper':'brown','heartofocean':'blue','garlic':'red','blushgold':'gold','mithrilgrey':'gray','silvertitan':'gray','pacificpearl':'pink','starrynight':'blue','charcoalgrey':'gray','quetzalcyan':'green','sharkgrey':'gray',\n",
    "          'kindofgrey':'gray','sprite':'green','azureglow':'blue','midnightjazz':'black','volcanogrey':'gray','sunriseflare':'gold','sunsetmelody':'gold','diamondsapphire':'blue','voyagergrey':'gray','mintcream':'green',\n",
    "          'diamondflare':'purple','glaringgold':'gold','silvertitanium':'gray','baltic':'green','sapphiregradient':'blue','majesticgold':'gold','irischarcoal':'black','celestialsilver':'gray','phantomsilver':'gray','crystalsilver':'gray','rainbowfantasy':'purple',\n",
    "          'middaydream':'purple','midnight':'black','auroragrey':'gray','milkywaygrey':'gray','auroradawn':'purple','midnightgrey':'gray','sapphirecyan':'green','awesomeviolet':'purple','coppergold':'brown','matteaqua':'blue',\n",
    "          'phantomviolet':'purple','frostedgold':'gold','ice':'blue','royalgold':'gold','diamonddazzle':'white','coral':'red','titanium':'gray','lavender':'purple','polargold':'gold','pebblegrey':'gray',\n",
    "          'glowinggold':'gold','frostedsilver':'gray','dusk':'blue','sand':'yellow','awesomemint':'green','darkpearl':'black','pacificsunrise':'yellow','frostedchampagne':'gray','moonlightgold':'gold',\n",
    "          'frostedpearl':'white','cloudlavender':'purple','celestialmagic':'purple','aurora':'purple','waterygrey':'gray','richgrey':'gray' }\n"
   ]
  },
  {
   "cell_type": "code",
   "execution_count": 18,
   "metadata": {},
   "outputs": [],
   "source": [
    "newcol2=new_colors.map(col_dict).fillna(new_colors)"
   ]
  },
  {
   "cell_type": "code",
   "execution_count": 19,
   "metadata": {},
   "outputs": [
    {
     "data": {
      "text/plain": [
       "['gold']"
      ]
     },
     "execution_count": 19,
     "metadata": {},
     "output_type": "execute_result"
    }
   ],
   "source": [
    "##Let's check that we only have the original colors plus gold (hence the difference should yield only gold)\n",
    "list(set(newcol2).symmetric_difference(set(simple_colors)))"
   ]
  },
  {
   "cell_type": "markdown",
   "metadata": {},
   "source": [
    "This is our new Colors column!"
   ]
  },
  {
   "cell_type": "code",
   "execution_count": 20,
   "metadata": {},
   "outputs": [],
   "source": [
    "df['Colors']=newcol2.astype('category')"
   ]
  },
  {
   "cell_type": "markdown",
   "metadata": {},
   "source": [
    "- *Memory* & *Storage* <br>\n",
    "Memory is referring to the RAM, Random Access Memory, so the power of a device to use multiple apps simultaneously, while Storage is just the capacity to keep stuff saved inside the phone.\n",
    "Both of these variables should be a Discrete Random Variable; hence, we must transform them. <br><br>\n",
    "\n",
    "First, we have to find a uniform way to describe them, meaning that we shall find the most common, smallest unit of measure, starting from Gigabytes. <br>\n",
    "For *Memory (RAM)*:\n"
   ]
  },
  {
   "cell_type": "code",
   "execution_count": 21,
   "metadata": {},
   "outputs": [
    {
     "data": {
      "text/plain": [
       "5         8 MB\n",
       "36        2 MB\n",
       "60      512 MB\n",
       "116     512 MB\n",
       "136     768 MB\n",
       "         ...  \n",
       "3079      4 MB\n",
       "3092     64 MB\n",
       "3096      4 MB\n",
       "3107    512 MB\n",
       "3108      4 MB\n",
       "Name: Memory, Length: 164, dtype: object"
      ]
     },
     "execution_count": 21,
     "metadata": {},
     "output_type": "execute_result"
    }
   ],
   "source": [
    "a=df[~df['Memory'].isna()]['Memory']\n",
    "a[~a.str.endswith('GB')]"
   ]
  },
  {
   "cell_type": "code",
   "execution_count": 22,
   "metadata": {},
   "outputs": [
    {
     "data": {
      "text/plain": [
       "Series([], Name: Memory, dtype: object)"
      ]
     },
     "execution_count": 22,
     "metadata": {},
     "output_type": "execute_result"
    }
   ],
   "source": [
    "b=a[~a.str.endswith('GB')]\n",
    "b[~a.str.endswith('MB')]"
   ]
  },
  {
   "cell_type": "markdown",
   "metadata": {},
   "source": [
    "For RAM the most atomic unit of measure is the **MB**! <br>\n",
    "Let's now check the same for Storage."
   ]
  },
  {
   "cell_type": "code",
   "execution_count": 23,
   "metadata": {},
   "outputs": [
    {
     "data": {
      "text/plain": [
       "5        16 MB\n",
       "36        2 MB\n",
       "120       2 MB\n",
       "183       2 MB\n",
       "197      16 MB\n",
       "         ...  \n",
       "3027      2 MB\n",
       "3079      4 MB\n",
       "3092    128 MB\n",
       "3096      2 MB\n",
       "3108      2 MB\n",
       "Name: Storage, Length: 135, dtype: object"
      ]
     },
     "execution_count": 23,
     "metadata": {},
     "output_type": "execute_result"
    }
   ],
   "source": [
    "a=df[~df['Storage'].isna()]['Storage']\n",
    "a[~a.str.endswith('GB')]"
   ]
  },
  {
   "cell_type": "code",
   "execution_count": 24,
   "metadata": {},
   "outputs": [
    {
     "data": {
      "text/plain": [
       "323     1 TB\n",
       "591     1 TB\n",
       "729     1 TB\n",
       "799     1 TB\n",
       "813     1 TB\n",
       "831     1 TB\n",
       "833     1 TB\n",
       "903     1 TB\n",
       "1185    1 TB\n",
       "1285    1 TB\n",
       "1903    1 TB\n",
       "1974    1 TB\n",
       "2032    1 TB\n",
       "2932    1 TB\n",
       "Name: Storage, dtype: object"
      ]
     },
     "execution_count": 24,
     "metadata": {},
     "output_type": "execute_result"
    }
   ],
   "source": [
    "b=a[~a.str.endswith('GB')]\n",
    "b[~a.str.endswith('MB')]"
   ]
  },
  {
   "cell_type": "markdown",
   "metadata": {},
   "source": [
    "It's Still the **MB**. <br>\n",
    "We can now proceed with the transformation."
   ]
  },
  {
   "cell_type": "code",
   "execution_count": 25,
   "metadata": {},
   "outputs": [],
   "source": [
    "def bytes_to_num(s):\n",
    "    if type(s)!=str:\n",
    "        return 0\n",
    "    if 'Expandable Upto' in s:\n",
    "        s=s.replace('Expandable Upto','')\n",
    "    if 'MB' in s:\n",
    "        s=s.replace('MB','')\n",
    "        if '.' in s:\n",
    "            s=round(float(s),0)\n",
    "        return int(s)\n",
    "    elif 'GB' in s:\n",
    "        s=s.replace('GB','')\n",
    "        if '.' in s:\n",
    "            s=round(float(s),0)\n",
    "        return int(s)*1024\n",
    "    elif 'TB' in s:\n",
    "        s=s.replace('TB','')\n",
    "        if '.' in s:\n",
    "            s=round(float(s),0)\n",
    "        return int(s)*1024*1024"
   ]
  },
  {
   "cell_type": "code",
   "execution_count": 26,
   "metadata": {},
   "outputs": [],
   "source": [
    "df['Memory']=df['Memory'].apply(bytes_to_num)\n",
    "df['Storage']=df['Storage'].apply(bytes_to_num)"
   ]
  },
  {
   "cell_type": "markdown",
   "metadata": {},
   "source": [
    "- **Rating** <br>\n",
    "Ratings are fine this way, only some None values but conceptually they should be, as they are, a *Continuos Random Variable*. \n",
    "<br>\n",
    "<br>\n",
    "- **Selling Price, Original Price and Discount**\n",
    "In this case, they should be considered as a continuos random variable, but because Indian Paise are very small, usually commercial prices are *.00*, so it makes sense to consider them as integers.\n",
    "<br>\n",
    "<br>\n",
    "- **Discount Percentage** <br>\n",
    "At last, the discount percentage is fine, as it is a Continuos Random Variable and it is hence recognised as a float"
   ]
  },
  {
   "cell_type": "code",
   "execution_count": 27,
   "metadata": {},
   "outputs": [
    {
     "data": {
      "text/plain": [
       "Brands                 category\n",
       "Models                 category\n",
       "Colors                 category\n",
       "Memory                    int64\n",
       "Storage                   int64\n",
       "Rating                  float64\n",
       "Selling Price             int64\n",
       "Original Price            int64\n",
       "Mobile                   object\n",
       "Discount                  int64\n",
       "discount percentage     float64\n",
       "dtype: object"
      ]
     },
     "execution_count": 27,
     "metadata": {},
     "output_type": "execute_result"
    }
   ],
   "source": [
    "df.dtypes"
   ]
  },
  {
   "cell_type": "markdown",
   "metadata": {},
   "source": [
    " - **Mobile**: "
   ]
  },
  {
   "cell_type": "code",
   "execution_count": 28,
   "metadata": {},
   "outputs": [
    {
     "data": {
      "text/plain": [
       "False"
      ]
     },
     "execution_count": 28,
     "metadata": {},
     "output_type": "execute_result"
    }
   ],
   "source": [
    "df['Mobile'].isna().any()"
   ]
  },
  {
   "cell_type": "code",
   "execution_count": 29,
   "metadata": {},
   "outputs": [
    {
     "data": {
      "text/html": [
       "<div>\n",
       "<style scoped>\n",
       "    .dataframe tbody tr th:only-of-type {\n",
       "        vertical-align: middle;\n",
       "    }\n",
       "\n",
       "    .dataframe tbody tr th {\n",
       "        vertical-align: top;\n",
       "    }\n",
       "\n",
       "    .dataframe thead th {\n",
       "        text-align: right;\n",
       "    }\n",
       "</style>\n",
       "<table border=\"1\" class=\"dataframe\">\n",
       "  <thead>\n",
       "    <tr style=\"text-align: right;\">\n",
       "      <th></th>\n",
       "      <th>Brands</th>\n",
       "      <th>Models</th>\n",
       "      <th>Mobile</th>\n",
       "    </tr>\n",
       "  </thead>\n",
       "  <tbody>\n",
       "    <tr>\n",
       "      <th>0</th>\n",
       "      <td>SAMSUNG</td>\n",
       "      <td>GALAXY M31S</td>\n",
       "      <td>SAMSUNG GALAXY M31S</td>\n",
       "    </tr>\n",
       "    <tr>\n",
       "      <th>1</th>\n",
       "      <td>Nokia</td>\n",
       "      <td>3.2</td>\n",
       "      <td>Nokia 3.2</td>\n",
       "    </tr>\n",
       "    <tr>\n",
       "      <th>2</th>\n",
       "      <td>realme</td>\n",
       "      <td>C2</td>\n",
       "      <td>realme C2</td>\n",
       "    </tr>\n",
       "    <tr>\n",
       "      <th>3</th>\n",
       "      <td>Infinix</td>\n",
       "      <td>Note 5</td>\n",
       "      <td>Infinix Note 5</td>\n",
       "    </tr>\n",
       "    <tr>\n",
       "      <th>4</th>\n",
       "      <td>Apple</td>\n",
       "      <td>iPhone 11</td>\n",
       "      <td>Apple iPhone 11</td>\n",
       "    </tr>\n",
       "    <tr>\n",
       "      <th>...</th>\n",
       "      <td>...</td>\n",
       "      <td>...</td>\n",
       "      <td>...</td>\n",
       "    </tr>\n",
       "    <tr>\n",
       "      <th>3109</th>\n",
       "      <td>POCO</td>\n",
       "      <td>M4 Pro 5G</td>\n",
       "      <td>POCO M4 Pro 5G</td>\n",
       "    </tr>\n",
       "    <tr>\n",
       "      <th>3110</th>\n",
       "      <td>Nokia</td>\n",
       "      <td>225</td>\n",
       "      <td>Nokia 225</td>\n",
       "    </tr>\n",
       "    <tr>\n",
       "      <th>3111</th>\n",
       "      <td>Apple</td>\n",
       "      <td>iPhone SE</td>\n",
       "      <td>Apple iPhone SE</td>\n",
       "    </tr>\n",
       "    <tr>\n",
       "      <th>3112</th>\n",
       "      <td>Apple</td>\n",
       "      <td>iPhone 13 Pro</td>\n",
       "      <td>Apple iPhone 13 Pro</td>\n",
       "    </tr>\n",
       "    <tr>\n",
       "      <th>3113</th>\n",
       "      <td>GIONEE</td>\n",
       "      <td>F9</td>\n",
       "      <td>GIONEE F9</td>\n",
       "    </tr>\n",
       "  </tbody>\n",
       "</table>\n",
       "<p>3114 rows × 3 columns</p>\n",
       "</div>"
      ],
      "text/plain": [
       "       Brands          Models                Mobile\n",
       "0     SAMSUNG    GALAXY M31S   SAMSUNG GALAXY M31S \n",
       "1       Nokia             3.2             Nokia 3.2\n",
       "2      realme             C2             realme C2 \n",
       "3     Infinix          Note 5        Infinix Note 5\n",
       "4       Apple      iPhone 11       Apple iPhone 11 \n",
       "...       ...             ...                   ...\n",
       "3109     POCO       M4 Pro 5G        POCO M4 Pro 5G\n",
       "3110    Nokia             225             Nokia 225\n",
       "3111    Apple      iPhone SE       Apple iPhone SE \n",
       "3112    Apple  iPhone 13 Pro   Apple iPhone 13 Pro \n",
       "3113   GIONEE             F9             GIONEE F9 \n",
       "\n",
       "[3114 rows x 3 columns]"
      ]
     },
     "execution_count": 29,
     "metadata": {},
     "output_type": "execute_result"
    }
   ],
   "source": [
    "df[['Brands','Models','Mobile']]"
   ]
  },
  {
   "cell_type": "markdown",
   "metadata": {},
   "source": [
    "As we can see here, **Mobile is just the string sum of Brand and Model**: it is **redundant**, and therefore we can drop it."
   ]
  },
  {
   "cell_type": "code",
   "execution_count": 30,
   "metadata": {},
   "outputs": [],
   "source": [
    "df.drop('Mobile', axis=1, inplace=True)"
   ]
  },
  {
   "cell_type": "markdown",
   "metadata": {},
   "source": [
    "One other Boolean Variable that might be interesting for our analysis, as we can see in row 3112 is the presesence of **'Pro' models**.<br>\n",
    "It is a naming strategy that companies use to differentiate the most high end version of a smartphone"
   ]
  },
  {
   "cell_type": "code",
   "execution_count": 31,
   "metadata": {},
   "outputs": [],
   "source": [
    "def pro(s):\n",
    "    if 'Pro' in s:\n",
    "        return True\n",
    "    elif 'PRO' in s:\n",
    "        return True\n",
    "    else:\n",
    "        return False"
   ]
  },
  {
   "cell_type": "code",
   "execution_count": 32,
   "metadata": {},
   "outputs": [],
   "source": [
    "df['pro']=df['Models'].apply(pro)"
   ]
  },
  {
   "cell_type": "code",
   "execution_count": 33,
   "metadata": {},
   "outputs": [
    {
     "data": {
      "text/plain": [
       "Brands                 category\n",
       "Models                 category\n",
       "Colors                 category\n",
       "Memory                    int64\n",
       "Storage                   int64\n",
       "Rating                  float64\n",
       "Selling Price             int64\n",
       "Original Price            int64\n",
       "Discount                  int64\n",
       "discount percentage     float64\n",
       "pro                        bool\n",
       "dtype: object"
      ]
     },
     "execution_count": 33,
     "metadata": {},
     "output_type": "execute_result"
    }
   ],
   "source": [
    "df.dtypes"
   ]
  },
  {
   "cell_type": "code",
   "execution_count": 34,
   "metadata": {},
   "outputs": [
    {
     "data": {
      "text/html": [
       "<div>\n",
       "<style scoped>\n",
       "    .dataframe tbody tr th:only-of-type {\n",
       "        vertical-align: middle;\n",
       "    }\n",
       "\n",
       "    .dataframe tbody tr th {\n",
       "        vertical-align: top;\n",
       "    }\n",
       "\n",
       "    .dataframe thead th {\n",
       "        text-align: right;\n",
       "    }\n",
       "</style>\n",
       "<table border=\"1\" class=\"dataframe\">\n",
       "  <thead>\n",
       "    <tr style=\"text-align: right;\">\n",
       "      <th></th>\n",
       "      <th>Brands</th>\n",
       "      <th>Models</th>\n",
       "      <th>Colors</th>\n",
       "      <th>Memory</th>\n",
       "      <th>Storage</th>\n",
       "      <th>Rating</th>\n",
       "      <th>Selling Price</th>\n",
       "      <th>Original Price</th>\n",
       "      <th>Discount</th>\n",
       "      <th>discount percentage</th>\n",
       "      <th>pro</th>\n",
       "    </tr>\n",
       "  </thead>\n",
       "  <tbody>\n",
       "    <tr>\n",
       "      <th>0</th>\n",
       "      <td>SAMSUNG</td>\n",
       "      <td>GALAXY M31S</td>\n",
       "      <td>black</td>\n",
       "      <td>8192</td>\n",
       "      <td>131072</td>\n",
       "      <td>4.3</td>\n",
       "      <td>19330</td>\n",
       "      <td>20999</td>\n",
       "      <td>1669</td>\n",
       "      <td>7.947998</td>\n",
       "      <td>False</td>\n",
       "    </tr>\n",
       "    <tr>\n",
       "      <th>1</th>\n",
       "      <td>Nokia</td>\n",
       "      <td>3.2</td>\n",
       "      <td>gray</td>\n",
       "      <td>2048</td>\n",
       "      <td>16384</td>\n",
       "      <td>3.8</td>\n",
       "      <td>10199</td>\n",
       "      <td>10199</td>\n",
       "      <td>0</td>\n",
       "      <td>0.000000</td>\n",
       "      <td>False</td>\n",
       "    </tr>\n",
       "    <tr>\n",
       "      <th>2</th>\n",
       "      <td>realme</td>\n",
       "      <td>C2</td>\n",
       "      <td>black</td>\n",
       "      <td>2048</td>\n",
       "      <td>0</td>\n",
       "      <td>4.4</td>\n",
       "      <td>6999</td>\n",
       "      <td>7999</td>\n",
       "      <td>1000</td>\n",
       "      <td>12.501563</td>\n",
       "      <td>False</td>\n",
       "    </tr>\n",
       "    <tr>\n",
       "      <th>3</th>\n",
       "      <td>Infinix</td>\n",
       "      <td>Note 5</td>\n",
       "      <td>blue</td>\n",
       "      <td>4096</td>\n",
       "      <td>65536</td>\n",
       "      <td>4.2</td>\n",
       "      <td>12999</td>\n",
       "      <td>12999</td>\n",
       "      <td>0</td>\n",
       "      <td>0.000000</td>\n",
       "      <td>False</td>\n",
       "    </tr>\n",
       "    <tr>\n",
       "      <th>4</th>\n",
       "      <td>Apple</td>\n",
       "      <td>iPhone 11</td>\n",
       "      <td>black</td>\n",
       "      <td>4096</td>\n",
       "      <td>65536</td>\n",
       "      <td>4.6</td>\n",
       "      <td>49900</td>\n",
       "      <td>49900</td>\n",
       "      <td>0</td>\n",
       "      <td>0.000000</td>\n",
       "      <td>False</td>\n",
       "    </tr>\n",
       "  </tbody>\n",
       "</table>\n",
       "</div>"
      ],
      "text/plain": [
       "    Brands        Models Colors  Memory  Storage  Rating  Selling Price  \\\n",
       "0  SAMSUNG  GALAXY M31S   black    8192   131072     4.3          19330   \n",
       "1    Nokia           3.2   gray    2048    16384     3.8          10199   \n",
       "2   realme           C2   black    2048        0     4.4           6999   \n",
       "3  Infinix        Note 5   blue    4096    65536     4.2          12999   \n",
       "4    Apple    iPhone 11   black    4096    65536     4.6          49900   \n",
       "\n",
       "   Original Price  Discount  discount percentage    pro  \n",
       "0           20999      1669             7.947998  False  \n",
       "1           10199         0             0.000000  False  \n",
       "2            7999      1000            12.501563  False  \n",
       "3           12999         0             0.000000  False  \n",
       "4           49900         0             0.000000  False  "
      ]
     },
     "execution_count": 34,
     "metadata": {},
     "output_type": "execute_result"
    }
   ],
   "source": [
    "df.head()"
   ]
  },
  {
   "cell_type": "markdown",
   "metadata": {},
   "source": [
    "After renaming the columns for simplicity matters, this is our Final Dataset:"
   ]
  },
  {
   "cell_type": "code",
   "execution_count": 35,
   "metadata": {},
   "outputs": [],
   "source": [
    "df.rename(columns={'Brands':'brand','Models':'model','pro':'pro','Colors':'color','Memory':'memory',\n",
    "                  'Storage':'storage','Rating':'rating','Selling Price':'selling_price',\n",
    "                  'Original Price':'original_price','Discount':'discount',\n",
    "                   'discount percentage':'disc_perc'}, inplace=True)\n",
    "\n",
    "df=df[['brand','model','pro','color','memory','storage','rating','original_price','selling_price',\n",
    "      'discount','disc_perc']]\n",
    "df.to_csv('Clean_sales.csv', index=False)"
   ]
  }
 ],
 "metadata": {
  "kernelspec": {
   "display_name": "Python 3 (ipykernel)",
   "language": "python",
   "name": "python3"
  },
  "language_info": {
   "codemirror_mode": {
    "name": "ipython",
    "version": 3
   },
   "file_extension": ".py",
   "mimetype": "text/x-python",
   "name": "python",
   "nbconvert_exporter": "python",
   "pygments_lexer": "ipython3",
   "version": "3.10.9"
  },
  "varInspector": {
   "cols": {
    "lenName": 16,
    "lenType": 16,
    "lenVar": 40
   },
   "kernels_config": {
    "python": {
     "delete_cmd_postfix": "",
     "delete_cmd_prefix": "del ",
     "library": "var_list.py",
     "varRefreshCmd": "print(var_dic_list())"
    },
    "r": {
     "delete_cmd_postfix": ") ",
     "delete_cmd_prefix": "rm(",
     "library": "var_list.r",
     "varRefreshCmd": "cat(var_dic_list()) "
    }
   },
   "types_to_exclude": [
    "module",
    "function",
    "builtin_function_or_method",
    "instance",
    "_Feature"
   ],
   "window_display": false
  }
 },
 "nbformat": 4,
 "nbformat_minor": 2
}
